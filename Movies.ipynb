{
 "cells": [
  {
   "cell_type": "markdown",
   "id": "e2328839-a9d6-4678-ae5b-1571ac41557e",
   "metadata": {
    "execution": {
     "iopub.execute_input": "2024-12-05T05:37:44.121493Z",
     "iopub.status.busy": "2024-12-05T05:37:44.120478Z",
     "iopub.status.idle": "2024-12-05T05:37:44.142881Z",
     "shell.execute_reply": "2024-12-05T05:37:44.140880Z",
     "shell.execute_reply.started": "2024-12-05T05:37:44.121493Z"
    }
   },
   "source": [
    "Consider that you have been hired by a Multiplex management organization to extract the information of the top 50 movies with the best average rating from the web link shared below.\n",
    "https://web.archive.org/web/20230902185655/https://en.everybodywiki.com/100_Most_Highly-Ranked_Films\n",
    "The information required is Average Rank, Film, and Year.\n",
    "You are required to write a Python script webscraping_movies.py that extracts the information and saves it to a CSV file top_50_films.csv. You are also required to save the same information to a database Movies.db under the table name Top_50."
   ]
  },
  {
   "cell_type": "code",
   "execution_count": null,
   "id": "b35d5245-4ac8-41a3-9adc-b0451ad05343",
   "metadata": {},
   "outputs": [],
   "source": [
    "import pandas as pd\n",
    "\n",
    "url = 'https://web.archive.org/web/20230902185655/https://en.everybodywiki.com/100_Most_Highly-Ranked_Films'\n",
    "db_name = 'Movies.db'\n",
    "table_name = 'Top_50'\n",
    "csv_path = '/Users/LEPPY/Downloads/top_50_films.csv'\n",
    "df = pd.DataFrame(columns=[\"Average Rank\",\"Film\",\"Year\"])\n",
    "count = 0"
   ]
  },
  {
   "cell_type": "code",
   "execution_count": 53,
   "id": "dc15daea-3c1a-4ed3-9e5c-c4b2c66a98e6",
   "metadata": {
    "execution": {
     "iopub.execute_input": "2024-12-05T05:37:44.352990Z",
     "iopub.status.busy": "2024-12-05T05:37:44.352025Z",
     "iopub.status.idle": "2024-12-05T05:37:45.707206Z",
     "shell.execute_reply": "2024-12-05T05:37:45.701831Z",
     "shell.execute_reply.started": "2024-12-05T05:37:44.352990Z"
    }
   },
   "outputs": [],
   "source": [
    "import requests\n",
    "from bs4 import BeautifulSoup\n",
    "\n",
    "html_page = requests.get(url).text\n",
    "data = BeautifulSoup(html_page, 'html.parser')"
   ]
  },
  {
   "cell_type": "code",
   "execution_count": 54,
   "id": "99439d13-2a12-4403-b68a-5a3e822883f0",
   "metadata": {
    "execution": {
     "iopub.execute_input": "2024-12-05T05:37:45.717847Z",
     "iopub.status.busy": "2024-12-05T05:37:45.715853Z",
     "iopub.status.idle": "2024-12-05T05:37:45.767036Z",
     "shell.execute_reply": "2024-12-05T05:37:45.764049Z",
     "shell.execute_reply.started": "2024-12-05T05:37:45.717847Z"
    }
   },
   "outputs": [],
   "source": [
    "tables = data.find_all('tbody')\n",
    "rows = tables[0].find_all('tr')"
   ]
  },
  {
   "cell_type": "code",
   "execution_count": 55,
   "id": "92924bfb-4e6b-4dfb-88ef-7b8bc1afb1d5",
   "metadata": {
    "execution": {
     "iopub.execute_input": "2024-12-05T05:37:45.773203Z",
     "iopub.status.busy": "2024-12-05T05:37:45.771190Z",
     "iopub.status.idle": "2024-12-05T05:37:45.910113Z",
     "shell.execute_reply": "2024-12-05T05:37:45.904754Z",
     "shell.execute_reply.started": "2024-12-05T05:37:45.772190Z"
    }
   },
   "outputs": [],
   "source": [
    "for row in rows:\n",
    "    if count<50:\n",
    "        col = row.find_all('td')\n",
    "        if len(col)!=0:\n",
    "            data_dict = {\"Average Rank\": col[0].contents[0],\n",
    "                         \"Film\": col[1].contents[0],\n",
    "                         \"Year\": col[2].contents[0],\n",
    "                        \"Rotten Tomatoes' Top 100\": col[3].contents[0]}\n",
    "            df1 = pd.DataFrame(data_dict, index=[0])\n",
    "            df = pd.concat([df,df1], ignore_index=True)\n",
    "            count+=1\n",
    "    else:\n",
    "        break"
   ]
  },
  {
   "cell_type": "code",
   "execution_count": 57,
   "id": "cbfbbc0b-85d1-437f-ae15-f7f3af8df9e5",
   "metadata": {
    "execution": {
     "iopub.execute_input": "2024-12-05T05:37:55.849790Z",
     "iopub.status.busy": "2024-12-05T05:37:55.848790Z",
     "iopub.status.idle": "2024-12-05T05:37:55.876016Z",
     "shell.execute_reply": "2024-12-05T05:37:55.873962Z",
     "shell.execute_reply.started": "2024-12-05T05:37:55.849790Z"
    }
   },
   "outputs": [
    {
     "name": "stdout",
     "output_type": "stream",
     "text": [
      "   Average Rank                                           Film  Year  \\\n",
      "0             1                                  The Godfather  1972   \n",
      "1             2                                   Citizen Kane  1941   \n",
      "2             3                                     Casablanca  1942   \n",
      "3             4                         The Godfather, Part II  1974   \n",
      "4             5                            Singin' in the Rain  1952   \n",
      "5             6                                         Psycho  1960   \n",
      "6             7                                    Rear Window  1954   \n",
      "7             8                                 Apocalypse Now  1979   \n",
      "8             9                          2001: A Space Odyssey  1968   \n",
      "9            10                                  Seven Samurai  1954   \n",
      "10           11                                        Vertigo  1958   \n",
      "11           12                                    Sunset Blvd  1950   \n",
      "12           13                                   Modern Times  1936   \n",
      "13           14                             Lawrence of Arabia  1962   \n",
      "14           15                             North by Northwest  1959   \n",
      "15           16                                      Star Wars  1977   \n",
      "16           17                                       Parasite  2019   \n",
      "17           18                               Schindler's List  1993   \n",
      "18           19  Lord of the Rings: The Fellowship of the Ring  2001   \n",
      "19           20                           Shawshank Redemption  1994   \n",
      "20           21                          It's a Wonderful Life  1946   \n",
      "21           22                                   Pulp Fiction  1994   \n",
      "22           23                              Avengers: Endgame  2019   \n",
      "23           24                                    City Lights  1931   \n",
      "24           25                One Flew Over the Cuckoo's Nest  1975   \n",
      "25           26                                     Goodfellas  1990   \n",
      "26           27                        Raiders of the Lost Ark  1981   \n",
      "27           28                                   12 Angry Men  1957   \n",
      "28           29                       The Silence of the Lambs  1991   \n",
      "29           30                                    Taxi Driver  1976   \n",
      "30           31                            Saving Private Ryan  1998   \n",
      "31           32                     E.T. the Extra Terrestrial  1982   \n",
      "32           33                                          Alien  1979   \n",
      "33           34              Spider-Man: Into the Spider-verse  2018   \n",
      "34           35                                   Blade Runner  1982   \n",
      "35           36                               Double Indemnity  1944   \n",
      "36           37                                The Dark Knight  2008   \n",
      "37           38                               The Wizard of Oz  1939   \n",
      "38           39  Star Wars: Episode V- The Empire Strikes Back  1980   \n",
      "39           40                                  The Searchers  1956   \n",
      "40           41                             Mad Max: Fury Road  2015   \n",
      "41           42                                      Inception  2010   \n",
      "42           43          Lord of the Rings: Return of the King  2003   \n",
      "43           44                                     The Matrix  1999   \n",
      "44           45                                     Fight Club  1999   \n",
      "45           46                             Back to the Future  1985   \n",
      "46           47                          It Happened One Night  1934   \n",
      "47           48                The Good, the Bad, and the Ugly  1966   \n",
      "48           49              Lord of the Rings: The Two Towers  2002   \n",
      "49           50                                  All About Eve  1950   \n",
      "\n",
      "   Rotten Tomatoes' Top 100  \n",
      "0                        17  \n",
      "1                         2  \n",
      "2                         8  \n",
      "3                        99  \n",
      "4                        52  \n",
      "5                        88  \n",
      "6                        47  \n",
      "7                  unranked  \n",
      "8                  unranked  \n",
      "9                        49  \n",
      "10                 unranked  \n",
      "11                       21  \n",
      "12                        4  \n",
      "13                 unranked  \n",
      "14                       79  \n",
      "15                 unranked  \n",
      "16                        6  \n",
      "17                 unranked  \n",
      "18                 unranked  \n",
      "19                 unranked  \n",
      "20                 unranked  \n",
      "21                 unranked  \n",
      "22                        7  \n",
      "23                 unranked  \n",
      "24                 unranked  \n",
      "25                 unranked  \n",
      "26                 unranked  \n",
      "27                 unranked  \n",
      "28                 unranked  \n",
      "29                 unranked  \n",
      "30                 unranked  \n",
      "31                       48  \n",
      "32                       84  \n",
      "33                       19  \n",
      "34                 unranked  \n",
      "35                       54  \n",
      "36                 unranked  \n",
      "37                        3  \n",
      "38                 unranked  \n",
      "39                 unranked  \n",
      "40                       18  \n",
      "41                 unranked  \n",
      "42                 unranked  \n",
      "43                 unranked  \n",
      "44                 unranked  \n",
      "45                 unranked  \n",
      "46                        1  \n",
      "47                 unranked  \n",
      "48                 unranked  \n",
      "49                       22  \n"
     ]
    }
   ],
   "source": [
    "print(df)"
   ]
  },
  {
   "cell_type": "code",
   "execution_count": 58,
   "id": "76129685-5ea1-4c42-8d33-09db54505299",
   "metadata": {
    "execution": {
     "iopub.execute_input": "2024-12-05T05:37:56.075184Z",
     "iopub.status.busy": "2024-12-05T05:37:56.075184Z",
     "iopub.status.idle": "2024-12-05T05:37:56.097686Z",
     "shell.execute_reply": "2024-12-05T05:37:56.095685Z",
     "shell.execute_reply.started": "2024-12-05T05:37:56.075184Z"
    }
   },
   "outputs": [],
   "source": [
    "df.to_csv(csv_path)"
   ]
  },
  {
   "cell_type": "code",
   "execution_count": 59,
   "id": "79ab99c6-a162-4dd3-956f-ac8f2f217410",
   "metadata": {
    "execution": {
     "iopub.execute_input": "2024-12-05T05:37:56.589020Z",
     "iopub.status.busy": "2024-12-05T05:37:56.589020Z",
     "iopub.status.idle": "2024-12-05T05:37:56.642278Z",
     "shell.execute_reply": "2024-12-05T05:37:56.639240Z",
     "shell.execute_reply.started": "2024-12-05T05:37:56.589020Z"
    }
   },
   "outputs": [],
   "source": [
    "import sqlite3\n",
    "conn = sqlite3.connect(db_name)\n",
    "df.to_sql(table_name, conn, if_exists='replace', index=False)\n",
    "conn.close()"
   ]
  }
 ],
 "metadata": {
  "kernelspec": {
   "display_name": "Python 3 (ipykernel)",
   "language": "python",
   "name": "python3"
  },
  "language_info": {
   "codemirror_mode": {
    "name": "ipython",
    "version": 3
   },
   "file_extension": ".py",
   "mimetype": "text/x-python",
   "name": "python",
   "nbconvert_exporter": "python",
   "pygments_lexer": "ipython3",
   "version": "3.8.2"
  }
 },
 "nbformat": 4,
 "nbformat_minor": 5
}
